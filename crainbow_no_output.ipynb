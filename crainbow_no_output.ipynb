{
 "cells": [
  {
   "cell_type": "code",
   "execution_count": null,
   "metadata": {},
   "outputs": [],
   "source": [
    "if(!requireNamespace(\"BiocManager\")) install.packages(\"BiocManager\")"
   ]
  },
  {
   "cell_type": "code",
   "execution_count": null,
   "metadata": {},
   "outputs": [],
   "source": [
    "lib.list=c(\"Seurat\",\"plyr\",\"ggpubr\",\"dplyr\",\"ggthemes\",\"data.table\",\"GSVA\",\"biomaRt\")\n",
    "\n",
    "for(i in 1:length(lib.list)){\n",
    "\tif(any(installed.packages()[,1]==lib.list[i])){\n",
    "\t\tlibrary(lib.list[i],character.only=T)}else{\n",
    "\t\t\tBiocManager::install(lib.list[i])\n",
    "\t\t\tlibrary(lib.list[i],character.only=T)\n",
    "    };\n",
    "}"
   ]
  },
  {
   "cell_type": "code",
   "execution_count": null,
   "metadata": {},
   "outputs": [],
   "source": [
    "source(\"~/Research/scripts/r_scripts/useful_functions.R\")\n",
    "source(\"~/Research/scripts/r_scripts/plotfns.R\")"
   ]
  },
  {
   "cell_type": "markdown",
   "metadata": {},
   "source": [
    "Until now, all the required packages and R functions are loaded. Our next step includes reading all the individual tumor datasets using \"Seurat\" R package and follow their primary analysis workflow, which includes filtering, normalization, scaling (while regressing out any known technical variables) and identifying variable genes."
   ]
  },
  {
   "cell_type": "code",
   "execution_count": null,
   "metadata": {},
   "outputs": [],
   "source": [
    "## Read the list of mouse genesets\n",
    "ach = read.gmt.file(\"~/Research/pathways/mouse_pathways/acharya_genesets_mouse.gmt\")"
   ]
  },
  {
   "cell_type": "code",
   "execution_count": null,
   "metadata": {},
   "outputs": [],
   "source": [
    "ach$geneset.names"
   ]
  },
  {
   "cell_type": "markdown",
   "metadata": {},
   "source": [
    "Let's add PAM50 genes to this list. Since, this gene-list includes human genes, we will have to convert them into their mouse homologs."
   ]
  },
  {
   "cell_type": "code",
   "execution_count": null,
   "metadata": {},
   "outputs": [],
   "source": [
    "pam50 = scan(\"~/Research/pathways/pam50_genes.txt\",what=\"\")\n",
    "pam50_mm = convertHumanGeneList(pam50)"
   ]
  },
  {
   "cell_type": "markdown",
   "metadata": {},
   "source": [
    "Let's add these genes to the \"ach\" list object."
   ]
  },
  {
   "cell_type": "code",
   "execution_count": null,
   "metadata": {},
   "outputs": [],
   "source": [
    "ach$geneset.descriptions[51]=\"PAM50_mouse_homologs\"\n",
    "ach$geneset.names[51]=\"PAM50\"\n",
    "ach$genesets[[51]]=pam50_mm\n",
    "names(ach$genesets)[51]=\"PAM50\""
   ]
  },
  {
   "cell_type": "markdown",
   "metadata": {},
   "source": [
    "Read all the .tsv files and load the as \"Seurat\" objects."
   ]
  },
  {
   "cell_type": "code",
   "execution_count": null,
   "metadata": {},
   "outputs": [],
   "source": [
    "files = list.files(pattern=\".tsv\")\n",
    "files = files[files %in% c(\"MT1.tsv\",\"TU1.tsv\",\"TU2.tsv\",\"TU3.tsv\",\"TU4.tsv\")]\n",
    "data_list = llply(1:length(files),.progress=\"time\",function(i) read.delim(files[i],header=T,row.names=1))\n"
   ]
  },
  {
   "cell_type": "code",
   "execution_count": null,
   "metadata": {},
   "outputs": [],
   "source": [
    "seu_list = gene_list = vector(mode=\"list\",length=length(data_list))\n",
    "for(i in 1:length(seu_list)){\n",
    "  print(i)\n",
    "  seu = CreateSeuratObject(raw.data=data_list[[i]],min.cells=5)\n",
    "  seu@meta.data$group = gsub(\".tsv\",\"\",files[i])\n",
    "  seu = FilterCells(seu, subset.names = \"nGene\", low.thresholds = round(quantile(seu@meta.data$nGene,0.1)), high.thresholds = Inf)\n",
    "  seu = NormalizeData(seu,display.progress = F)\n",
    "  seu = ScaleData(seu, display.progress = F,vars.to.regress = c(\"nUMI\"))\n",
    "  seu = FindVariableGenes(seu,display.progress = F, do.plot = F, mean.function = ExpMean, dispersion.function = LogVMR)\n",
    "  genes_use = head(rownames(seu@hvg.info), 2000)\n",
    "  seu_list[[i]] = seu\n",
    "  gene_list[[i]] = genes_use\n",
    "}"
   ]
  },
  {
   "cell_type": "markdown",
   "metadata": {},
   "source": [
    "We run the multi-CCA pipeline that \"Seurat\" most recently published. "
   ]
  },
  {
   "cell_type": "code",
   "execution_count": null,
   "metadata": {},
   "outputs": [],
   "source": [
    "cca_out = RunMultiCCA(seu_list,genes.use=Reduce(\"intersect\",gene_list),num.ccs = 20)"
   ]
  },
  {
   "cell_type": "code",
   "execution_count": null,
   "metadata": {},
   "outputs": [],
   "source": [
    "DimPlot(object = cca_out, reduction.use = \"cca\", group.by = \"group\", pt.size = 1, do.return = F)"
   ]
  },
  {
   "cell_type": "code",
   "execution_count": null,
   "metadata": {},
   "outputs": [],
   "source": [
    "VlnPlot(object = cca_out, features.plot = \"CC1\", group.by = \"group\", do.return = F)"
   ]
  },
  {
   "cell_type": "markdown",
   "metadata": {},
   "source": [
    "We now look at the biweight midcorrelation (bicor) of the 30th gene ranked by minimum bicor across the specified CCs for each tumor dataset. \"bicor\" is a median-based similarity metric (robust to outliers). We visualize the number of CCs to proceed with in the Seurat alignment workflow."
   ]
  },
  {
   "cell_type": "code",
   "execution_count": null,
   "metadata": {},
   "outputs": [],
   "source": [
    "MetageneBicorPlot(cca_out, grouping.var = \"group\", dims.eval = 1:20, display.progress = FALSE)"
   ]
  },
  {
   "cell_type": "markdown",
   "metadata": {},
   "source": [
    "The saturation point on these curves provides a valuable guide for the number of CCs to include in our downstream analyses. We decided to go forward with 10 CCs. We also compute the ratio of variance explained by CCA to PCA. This value acts as an indicator of how well each cell is defined by shared sources of variance. A low value indicates non-overlapping cells. A threshold value of 0.5 is used across all the datasets."
   ]
  },
  {
   "cell_type": "code",
   "execution_count": null,
   "metadata": {},
   "outputs": [],
   "source": [
    "cca_out = CalcVarExpRatio(cca_out,reduction.type = \"pca\", grouping.var = \"group\", dims.use = 1:10)\n",
    "cca_out = SubsetData(cca_out, subset.name = \"var.ratio.pca\",accept.low = 0.5)"
   ]
  },
  {
   "cell_type": "markdown",
   "metadata": {},
   "source": [
    "Shifts in feature scale or population densities can drive global differences between CC loadings, and must be corrected for as part of the alignment procedure."
   ]
  },
  {
   "cell_type": "code",
   "execution_count": null,
   "metadata": {},
   "outputs": [],
   "source": [
    "cca_out = AlignSubspace(cca_out, reduction.type = \"cca\", grouping.var = \"group\", dims.align = 1:10)"
   ]
  },
  {
   "cell_type": "code",
   "execution_count": null,
   "metadata": {},
   "outputs": [],
   "source": [
    "CalcAlignmentMetric(cca_out,reduction.use = \"cca.aligned\",dims.use = 1:10, grouping.var =  \"group\")"
   ]
  },
  {
   "cell_type": "markdown",
   "metadata": {},
   "source": [
    "We now run t-SNE (non-linear dimensionality reduction) followed by clustering."
   ]
  },
  {
   "cell_type": "code",
   "execution_count": null,
   "metadata": {},
   "outputs": [],
   "source": [
    "set.seed(1234)\n",
    "cca_out = RunTSNE(cca_out, reduction.use = \"cca.aligned\", dims.use = 1:10, do.fast = T)\n",
    "TSNEPlot(object = cca_out, do.label = F,group.by=\"group\")"
   ]
  },
  {
   "cell_type": "code",
   "execution_count": null,
   "metadata": {},
   "outputs": [],
   "source": [
    "cca_out = FindClusters(cca_out, reduction.type = \"cca.aligned\", resolution = c(0.6), dims.use = 1:10,print.output = F);\n",
    "table(cca_out@ident)\n"
   ]
  },
  {
   "cell_type": "code",
   "execution_count": null,
   "metadata": {},
   "outputs": [],
   "source": [
    "TSNEPlot(object = cca_out, do.label =T,no.legend = FALSE,dark.theme = FALSE,label.size=5)"
   ]
  },
  {
   "cell_type": "code",
   "execution_count": null,
   "metadata": {},
   "outputs": [],
   "source": [
    "FeaturePlot(cca_out, features.plot = c(\"Krt5\",\"Krt14\",\"Krt6a\"), reduction.use=\"tsne\",nCol=2,min.cutoff = \"q05\", max.cutoff = \"q95\", cols.use = c(\"lightgrey\", \"red\"), pt.size = 1)"
   ]
  },
  {
   "cell_type": "code",
   "execution_count": null,
   "metadata": {},
   "outputs": [],
   "source": [
    "FeaturePlot(cca_out, features.plot = c(\"Krt8\",\"Krt18\",\"Krt19\"), reduction.use=\"tsne\",nCol=2,min.cutoff = \"q05\", max.cutoff = \"q95\", cols.use = c(\"lightgrey\", \"red\"), pt.size = 1)"
   ]
  },
  {
   "cell_type": "code",
   "execution_count": null,
   "metadata": {},
   "outputs": [],
   "source": [
    "FeaturePlot(cca_out, features.plot = c(\"Il6\",\"Il12b\",\"Serpinb2\",\"Cxcl3\"), reduction.use=\"tsne\",nCol=2,min.cutoff = \"q05\", max.cutoff = \"q95\", cols.use = c(\"lightgrey\", \"red\"), pt.size = 1)"
   ]
  },
  {
   "cell_type": "code",
   "execution_count": null,
   "metadata": {},
   "outputs": [],
   "source": [
    "FeaturePlot(cca_out, features.plot = c(\"Arg1\",\"Mrc1\",\"Egr2\",\"Cd83\"), reduction.use=\"tsne\",nCol=2,min.cutoff = \"q05\", max.cutoff = \"q95\", cols.use = c(\"lightgrey\", \"red\"), pt.size = 1)"
   ]
  },
  {
   "cell_type": "code",
   "execution_count": null,
   "metadata": {},
   "outputs": [],
   "source": [
    "FeaturePlot(cca_out, features.plot = c(\"Ptprc\",\"Foxp3\",\"Cd3d\",\"Cd4\",\"Cd14\"), reduction.use=\"tsne\",nCol=2,min.cutoff = \"q05\", max.cutoff = \"q95\", cols.use = c(\"lightgrey\", \"red\"), pt.size = 1)"
   ]
  },
  {
   "cell_type": "markdown",
   "metadata": {},
   "source": [
    "We compute single-sample enrichment scores (ssGSEA) using the genesets previously loaded. Each ssGSEA enrichment score represents the degree to which the genes in a particular gene set are coordinately up- or down-regulated within a sample. These genesets encompass immune microenvironment, oncogenic signaling, tumor microenvironment and DNA repair process."
   ]
  },
  {
   "cell_type": "code",
   "execution_count": null,
   "metadata": {},
   "outputs": [],
   "source": [
    "ssgsea_out = gsva(as.matrix(cca_out@data),gset.idx.list=ach$genesets,method=\"ssgsea\",kcdf=\"Gaussian\",min.sz=1,max.sz=1000)"
   ]
  },
  {
   "cell_type": "markdown",
   "metadata": {},
   "source": [
    "We scale the enrichment scores and display a heatmap."
   ]
  },
  {
   "cell_type": "code",
   "execution_count": null,
   "metadata": {},
   "outputs": [],
   "source": [
    "FM = ssgsea_out\n",
    "FM = as.matrix(Matrix::t(scale(Matrix::t(FM))))\n",
    "FM = melt(data.frame(t(FM),\"Cluster\"=cca_out@ident,\"Group\"=cca_out@meta.data$group))\n",
    "colnames(FM)[3:4]=c(\"GeneSets\",\"EnrichmentScore\")\n",
    "head(FM)"
   ]
  },
  {
   "cell_type": "code",
   "execution_count": null,
   "metadata": {},
   "outputs": [],
   "source": [
    "ES_mean = FM %>% dplyr::group_by(Cluster,GeneSets,Group) %>% summarize_all(funs(mean))\n",
    "ggplot(ES_mean, aes(Cluster, GeneSets)) + geom_tile(aes(fill = EnrichmentScore), colour = \"white\") + scale_fill_gradient2(low =\"dark blue\", high =\"dark red\", mid =\"white\",space = \"Lab\") +\n",
    "      theme_minimal() + theme(axis.text.x=element_text(size=8,angle=90)) + facet_grid(~Group)"
   ]
  },
  {
   "cell_type": "code",
   "execution_count": null,
   "metadata": {},
   "outputs": [],
   "source": [
    "ES1_mean = FM[,-1] %>% dplyr::group_by(GeneSets,Group) %>% summarize_all(funs(mean))\n",
    "ggplot(ES1_mean, aes(Group, GeneSets)) + geom_tile(aes(fill = EnrichmentScore), colour = \"white\") + scale_fill_gradient2(low =\"dark blue\", high =\"dark red\", mid =\"white\",space = \"Lab\") +\n",
    "      theme_minimal() + theme(axis.text.x=element_text(size=8,angle=90))"
   ]
  },
  {
   "cell_type": "markdown",
   "metadata": {},
   "source": [
    "We can display feature plots, with gene-sets as features instead of genes."
   ]
  },
  {
   "cell_type": "code",
   "execution_count": null,
   "metadata": {},
   "outputs": [],
   "source": [
    "cca_out@meta.data = cbind(cca_out@meta.data,t(as.matrix(Matrix::t(scale(Matrix::t(ssgsea_out))))))\n",
    "colnames(cca_out@meta.data)"
   ]
  },
  {
   "cell_type": "code",
   "execution_count": null,
   "metadata": {},
   "outputs": [],
   "source": [
    "FeaturePlot(cca_out,features.plot=c(\"BASAL\",\"LUMINAL\",\"MASC\",\"STROMAL\",\"LUMINAL PROGENITORS\",\"EMT\"),reduction.use=\"tsne\",nCol=3,min.cutoff = \"q05\", max.cutoff = \"q95\", cols.use = c(\"lightgrey\", \"red\"), pt.size = 1)"
   ]
  },
  {
   "cell_type": "code",
   "execution_count": null,
   "metadata": {},
   "outputs": [],
   "source": [
    "FeaturePlot(cca_out,features.plot=c(\"MACROPHAGE_ACTIVITY\",\"Treg\",\"INFLAMMATORY RESPONSE\",\"NK_CELLS\",\"TCELL_ACTIVATION\",\"G2M CHECKPOINT\"),reduction.use=\"tsne\",nCol=3,min.cutoff = \"q05\", max.cutoff = \"q95\", cols.use = c(\"lightgrey\", \"red\"), pt.size = 1)"
   ]
  },
  {
   "cell_type": "code",
   "execution_count": null,
   "metadata": {},
   "outputs": [],
   "source": [
    "FeaturePlot(cca_out,features.plot=c(\"HYPOXIA\",\"INVASIVENESS GENE SIGNATURE\",\"ANGIOGENESIS\",\"ECM\",\"FIBROBLAST GROWTH FACTOR RECEPTOR\",\"EPIGENETIC STEM CELL\"),reduction.use=\"tsne\",nCol=3,min.cutoff = \"q05\", max.cutoff = \"q95\", cols.use = c(\"lightgrey\", \"red\"), pt.size = 1)"
   ]
  },
  {
   "cell_type": "code",
   "execution_count": null,
   "metadata": {},
   "outputs": [],
   "source": [
    "FeaturePlot(cca_out,features.plot=c(\"WNT BETA CATENIN SIGNALING\",\"TGF BETA SIGNALING\",\"E2F TARGETS\",\"P53 PATHWAY\",\"HEDGEHOG SIGNALING\",\"PI3K-AKT-MTOR SIGNALING\"),reduction.use=\"tsne\",nCol=3,min.cutoff = \"q05\", max.cutoff = \"q95\", cols.use = c(\"lightgrey\", \"red\"), pt.size = 1)"
   ]
  },
  {
   "cell_type": "code",
   "execution_count": null,
   "metadata": {},
   "outputs": [],
   "source": [
    "FeaturePlot(cca_out,features.plot=c(\"BASE EXCISION REPAIR\",\"MISMATCH EXCISION REPAIR\",\"NUCLEOTIDE EXCISION REPAIR\",\"HOMOLOGOUS RECOMBINATION\",\"NONHOMOLOGOUS END JOINING\"),reduction.use=\"tsne\",nCol=3,min.cutoff = \"q05\", max.cutoff = \"q95\", cols.use = c(\"lightgrey\", \"red\"), pt.size = 1)"
   ]
  },
  {
   "cell_type": "code",
   "execution_count": null,
   "metadata": {},
   "outputs": [],
   "source": [
    "FeaturePlot(cca_out,features.plot=c(\"PAM50\"),reduction.use=\"tsne\",nCol=1,min.cutoff = \"q05\", max.cutoff = \"q95\", cols.use = c(\"lightgrey\", \"red\"), pt.size = 1)\n"
   ]
  },
  {
   "cell_type": "code",
   "execution_count": null,
   "metadata": {},
   "outputs": [],
   "source": [
    "sessionInfo()"
   ]
  },
  {
   "cell_type": "code",
   "execution_count": null,
   "metadata": {},
   "outputs": [],
   "source": []
  }
 ],
 "metadata": {
  "kernelspec": {
   "display_name": "R",
   "language": "R",
   "name": "ir"
  },
  "language_info": {
   "codemirror_mode": "r",
   "file_extension": ".r",
   "mimetype": "text/x-r-source",
   "name": "R",
   "pygments_lexer": "r",
   "version": "3.5.0"
  }
 },
 "nbformat": 4,
 "nbformat_minor": 2
}
